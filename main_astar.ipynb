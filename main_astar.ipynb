{
 "cells": [
  {
   "cell_type": "code",
   "execution_count": null,
   "metadata": {},
   "outputs": [],
   "source": [
    "from dtocs import *\n",
    "from helper import *\n",
    "from maps import *\n",
    "import numpy as np\n",
    "import matplotlib.pyplot as plt\n",
    "from gdal_interfaces import GDALTileInterface, GDALInterface"
   ]
  },
  {
   "cell_type": "code",
   "execution_count": null,
   "metadata": {},
   "outputs": [],
   "source": [
    "dirpath = \"/Users/aakash/Desktop/MTP2/exp/\"\n",
    "\n",
    "elevation_path = dirpath + \"elevation\"\n",
    "landcover_path = dirpath + \"landcover\"\n",
    "elevation_summary_path = elevation_path + \"/elevation_summary.json\"\n",
    "landcover_summary_path = landcover_path + \"/landcover_summary.json\"\n",
    "\n",
    "ALWAYS_REBUILD_SUMMARY = True\n",
    "OPEN_INTERFACES_SIZE = 8"
   ]
  },
  {
   "cell_type": "code",
   "execution_count": 8,
   "metadata": {},
   "outputs": [
    {
     "name": "stdout",
     "output_type": "stream",
     "text": [
      "{'driver': 'GTiff', 'dtype': 'int16', 'nodata': None, 'width': 340, 'height': 175, 'count': 1, 'crs': CRS.from_epsg(4326), 'transform': Affine(0.00026949458523585647, 0.0, 76.9625480332187,\n",
      "       0.0, -0.00026949458523585647, 31.806823965550876)}\n",
      "DEM resolution: 0.00026949458523585647\n",
      "Resolution:  (0.00026949458523585647, 0.00026949458523585647)\n",
      "Transform matrix:  | 0.00, 0.00, 75.08|\n",
      "| 0.00,-0.00, 33.22|\n",
      "| 0.00, 0.00, 1.00|\n"
     ]
    }
   ],
   "source": [
    "elevation_data_interface = GDALTileInterface(elevation_path, elevation_summary_path, OPEN_INTERFACES_SIZE)\n",
    "landcover_data_interface = GDALTileInterface(landcover_path, landcover_summary_path, OPEN_INTERFACES_SIZE)\n",
    "\n",
    "if elevation_data_interface.has_summary_json() and not ALWAYS_REBUILD_SUMMARY:\n",
    "    print('Re-using existing summary JSON')\n",
    "    elevation_data_interface.read_summary_json()\n",
    "else:\n",
    "    print('Creating summary JSON ...')\n",
    "    elevation_data_interface.create_summary_json()\n",
    "    \n",
    "if landcover_data_interface.has_summary_json() and not ALWAYS_REBUILD_SUMMARY:\n",
    "    print('Re-using existing summary JSON')\n",
    "    landcover_data_interface.read_summary_json()\n",
    "else:\n",
    "    print('Creating summary JSON ...')\n",
    "    landcover_data_interface.create_summary_json()"
   ]
  },
  {
   "cell_type": "code",
   "execution_count": null,
   "metadata": {},
   "outputs": [],
   "source": []
  }
 ],
 "metadata": {
  "kernelspec": {
   "display_name": "Python 3.8.3rc1 64-bit",
   "language": "python",
   "name": "python3"
  },
  "language_info": {
   "codemirror_mode": {
    "name": "ipython",
    "version": 3
   },
   "file_extension": ".py",
   "mimetype": "text/x-python",
   "name": "python",
   "nbconvert_exporter": "python",
   "pygments_lexer": "ipython3",
   "version": "3.11.2"
  },
  "orig_nbformat": 4,
  "vscode": {
   "interpreter": {
    "hash": "76bd643875626ed4254619e293c83bcd0f5fdf9aa36d20773fa52d77b8fcc471"
   }
  }
 },
 "nbformat": 4,
 "nbformat_minor": 2
}
